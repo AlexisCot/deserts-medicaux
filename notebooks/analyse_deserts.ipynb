{
 "cells": [
  {
   "cell_type": "markdown",
   "metadata": {},
   "source": [
    "# Analyse des déserts médicaux\n",
    "\n",
    "#### Alexis COTTEZ, Faustine VALLET  \n",
    "Master 2 / MAG 3 (Aix Marseille School of Economics)"
   ]
  },
  {
   "cell_type": "markdown",
   "metadata": {},
   "source": [
    "## Présentation de notre étude\n",
    "\n",
    "Bien qu'à l'échelle nationale les professionnels de santé ne manquent pas (**334 médecins pour 100 000 habitants** en France d'après l'INSEE), le pays compte toutefois de nombreux déserts médicaux, c’est-à-dire des territoires où l’offre médicale est insuffisante pour répondre aux besoins de la population.  \n",
    "\n",
    "Cependant les déserts médiaux restent difficiles à définir. Le rapport entre le nombre de professionnels de santé et la taille de population d'un territoire donné n'est-il pas un peu trop réducteur? Pour tenter d'enrichir la définition de ce concept encore vague, la *DREES* (Direction de la recherche, des études, de l’évaluation et des statistiques) et l’*IRDES* (Institut de recherche et de documentation en économie de la santé) ont développé conjointement un indicateur d’accessibilité aux soins nommé l’**Accessibilité Potentielle Localisée (APL)**. Selon cet indicateur, la définition d'un désert médical repose sur: \n",
    "\n",
    "- L’activité de chaque praticien, mesurée par le nombre de consultations ou visites effectuées par le praticien;\n",
    "- Le temps d'accès au praticien selon une fonction décroissante entre 0 et 20 minutes;\n",
    "- La consommation de soins par classe d'âge pour tenir compte des besoins différenciés en offre de soins;\n",
    "- Le but étant d'obtenir in-fine le nombre de consultations/visites accessibles pour chaque habitant. Sachant qu'en France un habitant bénéficie en moyenne nationale de 3,8 consultations par an, un territoire est considéré comme un désert médical lorsque le nombre de consultations par habitant et par an est inférieur à 2,5, en tenant également compte de l'offre des médecins généralistes âgés de 65 ans ou moins, ceux-ci étant proche de leur départ en retraite.\n",
    "\n",
    "Dans le cadre de ce projet, nous sommes bien entendu limités par les données disponibles. Néanmoins nous avons jugé intéressant de créer un nouvel indicateur, inspiré du deuxième point de l'APL: nous n'avons pas de données sur le temps d'accès à un praticien du fait que l'API de Google soit payante à ce jour, toutefois, nous avons pu obtenir les distances en kilomètres entre chaque code commune en téléchargeant une nouvelle base de données présentant les données spatiales longitude et latitude. De cette façon nous avons pu nous focaliser sur les communes qui n'ont pas de professionnels de santé et calculer la distance qui les séparait d'une commune qui en dépose - et le nombre de praticiens disponibles. En effet, dans les zones rurales tout particulièrement, il n'y a rien d'anormal à ce qu'une petite commune n'est pas de professionnel de santé, et ce n'est pas un problème en soi tant que les habitants peuvent en trouver à quelques kilomètres (et minutes) de chez eux dans le village d'à côté. Mais si quelques kilomètres se transforent en plusieurs dizaines de kilomètres, c'est certainement là que nous pouvons commencer à parler de déserts médicaux, d'où l'intérêt de cet indicateur que vous retrouverez dans le notebook `preparation-filosofi`. Dès lors, grace aux données de localisation `longitude` et `latitude` notre fonction permet de retourner la distance à vol d'oiseau d'un généraliste, d'un hopital, d'au moins 3 soins de base, spécialistes réguliers et spécialistes particuliers pour des villes qui n'en présentent aucun ou moins de trois pour les dernières groupes de soins. Nous pourrions par ailleur améliorer cet indiquateur en utilisant la distance Manhattan ou Chebyshev au lieu de la distance Euclidienne.\n",
    "\n",
    "<table border=\"0\">\n",
    "    <caption align=\"bottom\"><b style=\"font-size:20px\">Liste des différentes distances</b></caption>\n",
    " <tr>\n",
    "    <td><b style=\"font-size:30px\">Distance Euclidienne </b></td>\n",
    "    <td><b style=\"font-size:30px\">Manhattan Distance  </b></td>\n",
    "    <td><b style=\"font-size:30px\">Chebyshev Distance  </b></td>\n",
    " </tr>\n",
    " <tr>\n",
    "    <td> <b style=\"font-size:20px\"> $$ \\sqrt{(x_1 - x_2)^2 + (y_1 - y_2)^2} $$ </b> </td>\n",
    "    <td><b style=\"font-size:20px\"> $$ \\mid x_1 - x_2 \\mid + \\mid y_1 - y_2 \\mid   $$  </b></td>\n",
    "    <td><b style=\"font-size:20px\">$$ \\max{( \\mid x_1 - x_2 \\mid, \\mid y_1 - y_2 \\mid )} $$  </b></td>\n",
    " </tr>\n",
    " <tr>\n",
    "    <td><img src=\"../reports/figures/euclidean.png\" alt=\"\" border=3 height=100 width=300></img></td>\n",
    "    <td><img src=\"../reports/figures/manhattan.png\" alt=\"\" border=3 height=100 width=300></img></td>\n",
    "    <td><img src=\"../reports/figures/chebyshev.png\" alt=\"\" border=3 height=100 width=300></img></td>\n",
    " </tr>\n",
    "  <tr>\n",
    "    <td><b>Ligne droite</b> entre deux points</td>\n",
    "    <td><b>Distance L1</b>, en zig-zag comme dans les villes américaines où les rues sont relativement parralèles et perpendiculaires</td>\n",
    "    <td>Les <b>8 coins</b> adjacents sont atteignables en 1 seul mouvement</td>\n",
    " </tr>\n",
    "</table>\n",
    "\n",
    "\n",
    "\n",
    "Référence : *EUCLIDEAN VS CHEBYSHEV VS MANHATTAN DISTANCE*, [LYFAT](https://lyfat.wordpress.com/2012/05/22/euclidean-vs-chebyshev-vs-manhattan-distance/), 2012.\n",
    "\n",
    "Dans ce présent notebook, une partie a été établie lors du cours de PROJET et nous avons apporté nos modifications à celui-ci pour une meilleur automatisation et réduire les copiés-collés. \n",
    "\n",
    "## Nos résultats \n",
    "\n",
    "Nos nouveaux indicateurs nous permettent de conclure les éléments suivant: \n",
    "- Il y a **85** villes à plus de **10km** d'au moins un médecin **généraliste** ;\n",
    "- Il y a **4 288** villes à plus de **10km** d'un **hôpital** ;\n",
    "- Il y a **1 178** villes à plus de **10km** d'au moins 3 **soins de base** ;\n",
    "- Il y a **133** villes à plus de **10km** d'au moins 3 **spécialistes réguliers** ;\n",
    "- Il y a **133** villes à plus de **10km** d'au moins 3 **spécialistes particuliers**.\n",
    "\n",
    "Ces résultats sont à relativiser du fait que ce sont des distances à vol d'oiseau. Dès lors 10km en Corse ne prendra pas le même temps de trajet que 10km entre Marseille et Aubagne. \n",
    "\n",
    "\n",
    "\n",
    "\n",
    "\n",
    "## Limites de notre étude \n",
    "\n",
    "Comme nous l'avons présenté précédemment, une analyse avec des temps de trajets permettrait de davantage corroborer à l'indicateur APL (Accessibilité Potentielle Localisée). Malheureusement, l'API de Google Maps qui pourrait nous fournir ces informations est dorénavant payante. \n",
    "\n",
    "Nous pourrions améliorer l'étude si nous disposions de l'âge des professionnels de santé, comme montré précédemment et l'âge moyen ou sa répartition en catégories des habitants de chaque commune pour en déduire leur besoin de bien de santé.\n",
    "\n",
    "Les distances calculées pourraient évoluer en utilisant d'autres techniques de calculs. \n",
    "\n",
    "Au vu du nombres de projets de fin d'année de Master 2 que nous avions à rendre dans les dernières semaines, nous ne pouvions pas établir de Dashboard en utilisant Plotly. Nous avons préféré établir cet indicateur relativement performant et présenter nos résultats avec une touche d'interactivité grave aux Ipywidgets. "
   ]
  },
  {
   "cell_type": "markdown",
   "metadata": {},
   "source": [
    "### Import des packages et de la table"
   ]
  },
  {
   "cell_type": "code",
   "execution_count": 2,
   "metadata": {},
   "outputs": [],
   "source": [
    "import os\n",
    "\n",
    "import pandas as pd\n",
    "\n",
    "import numpy as np\n",
    "\n",
    "%matplotlib inline\n",
    "\n",
    "import seaborn as sns\n",
    "\n",
    "import matplotlib.pyplot as plt\n",
    "\n",
    "import mapclassify\n",
    "\n",
    "#import pysal.esda.mapclassify as mapclassify\n",
    "import pandas as pd\n",
    "import os\n",
    "from mapboxgl.utils import *\n",
    "from mapboxgl.viz import *\n",
    "import numpy as np\n",
    "\n",
    "import mapclassify\n",
    "from mapboxgl.utils import create_color_stops, df_to_geojson\n",
    "from mapboxgl.viz import CircleViz\n",
    "\n",
    "#import pygal.maps.fr\n",
    "\n",
    "import ipywidgets as widgets"
   ]
  },
  {
   "cell_type": "markdown",
   "metadata": {},
   "source": [
    "# Déclaration des constantes"
   ]
  },
  {
   "cell_type": "code",
   "execution_count": 3,
   "metadata": {},
   "outputs": [],
   "source": [
    "DATA_DIR = '../data/external/'\n",
    "PROCESS_DIR = '../data/processed/'\n",
    "\n",
    "CITIES_FILENAME = 'base-cc-filosofi-2015.xls'\n",
    "COMMUNES_FILENAME = 'PS_communes.csv'\n",
    "ANALYSIS_FILENAME = 'analyse_filosofi.csv'\n",
    "APPARTENANCE_GEO_FILENAME = 'table-appartenance-geo-communes-18_V2.xls'\n",
    "\n",
    "MAPBOX_ACCESS_TOKEN = 'pk.eyJ1IjoiYWxleGNvdDEzIiwiYSI6ImNqdDBpOWtxaDB2cXAzeXF0MGU4Mmc3YzIifQ.YVNA_UtB0bASO-5p1qe_ug' # ALEXIS COTTEZ    "
   ]
  },
  {
   "cell_type": "markdown",
   "metadata": {},
   "source": [
    "### Premières analyses"
   ]
  },
  {
   "cell_type": "code",
   "execution_count": 4,
   "metadata": {},
   "outputs": [
    {
     "name": "stderr",
     "output_type": "stream",
     "text": [
      "/Users/alexiscot/anaconda3/lib/python3.7/site-packages/IPython/core/interactiveshell.py:3020: DtypeWarning: Columns (47) have mixed types. Specify dtype option on import or set low_memory=False.\n",
      "  interactivity=interactivity, compiler=compiler, result=result)\n"
     ]
    },
    {
     "data": {
      "text/html": [
       "<div>\n",
       "<style scoped>\n",
       "    .dataframe tbody tr th:only-of-type {\n",
       "        vertical-align: middle;\n",
       "    }\n",
       "\n",
       "    .dataframe tbody tr th {\n",
       "        vertical-align: top;\n",
       "    }\n",
       "\n",
       "    .dataframe thead th {\n",
       "        text-align: right;\n",
       "    }\n",
       "</style>\n",
       "<table border=\"1\" class=\"dataframe\">\n",
       "  <thead>\n",
       "    <tr style=\"text-align: right;\">\n",
       "      <th></th>\n",
       "      <th>codecommuneetablissement</th>\n",
       "      <th>ambulance</th>\n",
       "      <th>analyse_medicale</th>\n",
       "      <th>autre</th>\n",
       "      <th>autre_specialiste</th>\n",
       "      <th>chirurgien</th>\n",
       "      <th>dentiste</th>\n",
       "      <th>generaliste</th>\n",
       "      <th>hopital</th>\n",
       "      <th>infirmiers</th>\n",
       "      <th>...</th>\n",
       "      <th>ville_code_commune</th>\n",
       "      <th>ville_canton</th>\n",
       "      <th>ville_densite_2010</th>\n",
       "      <th>ville_longitude_deg</th>\n",
       "      <th>ville_latitude_deg</th>\n",
       "      <th>dist_generaliste</th>\n",
       "      <th>dist_hopital</th>\n",
       "      <th>dist_soin_base</th>\n",
       "      <th>dist_spe_regulier</th>\n",
       "      <th>dist_spe_particulier</th>\n",
       "    </tr>\n",
       "  </thead>\n",
       "  <tbody>\n",
       "    <tr>\n",
       "      <th>0</th>\n",
       "      <td>01001</td>\n",
       "      <td>0.0</td>\n",
       "      <td>0.0</td>\n",
       "      <td>0.0</td>\n",
       "      <td>0.0</td>\n",
       "      <td>0.0</td>\n",
       "      <td>0.0</td>\n",
       "      <td>0.0</td>\n",
       "      <td>0.0</td>\n",
       "      <td>0.0</td>\n",
       "      <td>...</td>\n",
       "      <td>01001</td>\n",
       "      <td>10.0</td>\n",
       "      <td>49.0</td>\n",
       "      <td>4.91667</td>\n",
       "      <td>46.15</td>\n",
       "      <td>3.919269</td>\n",
       "      <td>5.343667</td>\n",
       "      <td>5.343667</td>\n",
       "      <td>3.851641</td>\n",
       "      <td>5.343667</td>\n",
       "    </tr>\n",
       "    <tr>\n",
       "      <th>1</th>\n",
       "      <td>01002</td>\n",
       "      <td>0.0</td>\n",
       "      <td>0.0</td>\n",
       "      <td>1.0</td>\n",
       "      <td>0.0</td>\n",
       "      <td>0.0</td>\n",
       "      <td>0.0</td>\n",
       "      <td>0.0</td>\n",
       "      <td>0.0</td>\n",
       "      <td>0.0</td>\n",
       "      <td>...</td>\n",
       "      <td>01002</td>\n",
       "      <td>1.0</td>\n",
       "      <td>24.0</td>\n",
       "      <td>5.41667</td>\n",
       "      <td>46.00</td>\n",
       "      <td>3.702791</td>\n",
       "      <td>7.579890</td>\n",
       "      <td>3.702791</td>\n",
       "      <td>3.702791</td>\n",
       "      <td>3.805566</td>\n",
       "    </tr>\n",
       "    <tr>\n",
       "      <th>2</th>\n",
       "      <td>01004</td>\n",
       "      <td>1.0</td>\n",
       "      <td>4.0</td>\n",
       "      <td>21.0</td>\n",
       "      <td>35.0</td>\n",
       "      <td>9.0</td>\n",
       "      <td>15.0</td>\n",
       "      <td>25.0</td>\n",
       "      <td>8.0</td>\n",
       "      <td>32.0</td>\n",
       "      <td>...</td>\n",
       "      <td>01004</td>\n",
       "      <td>1.0</td>\n",
       "      <td>562.0</td>\n",
       "      <td>5.35000</td>\n",
       "      <td>45.95</td>\n",
       "      <td>0.000000</td>\n",
       "      <td>0.000000</td>\n",
       "      <td>0.000000</td>\n",
       "      <td>0.000000</td>\n",
       "      <td>0.000000</td>\n",
       "    </tr>\n",
       "    <tr>\n",
       "      <th>3</th>\n",
       "      <td>01005</td>\n",
       "      <td>0.0</td>\n",
       "      <td>0.0</td>\n",
       "      <td>0.0</td>\n",
       "      <td>0.0</td>\n",
       "      <td>0.0</td>\n",
       "      <td>0.0</td>\n",
       "      <td>2.0</td>\n",
       "      <td>0.0</td>\n",
       "      <td>4.0</td>\n",
       "      <td>...</td>\n",
       "      <td>01005</td>\n",
       "      <td>30.0</td>\n",
       "      <td>101.0</td>\n",
       "      <td>4.90000</td>\n",
       "      <td>46.00</td>\n",
       "      <td>0.000000</td>\n",
       "      <td>9.822801</td>\n",
       "      <td>9.011880</td>\n",
       "      <td>0.000000</td>\n",
       "      <td>9.011880</td>\n",
       "    </tr>\n",
       "    <tr>\n",
       "      <th>4</th>\n",
       "      <td>01007</td>\n",
       "      <td>0.0</td>\n",
       "      <td>0.0</td>\n",
       "      <td>3.0</td>\n",
       "      <td>0.0</td>\n",
       "      <td>0.0</td>\n",
       "      <td>0.0</td>\n",
       "      <td>5.0</td>\n",
       "      <td>0.0</td>\n",
       "      <td>4.0</td>\n",
       "      <td>...</td>\n",
       "      <td>01007</td>\n",
       "      <td>1.0</td>\n",
       "      <td>70.0</td>\n",
       "      <td>5.35000</td>\n",
       "      <td>46.00</td>\n",
       "      <td>0.000000</td>\n",
       "      <td>5.559746</td>\n",
       "      <td>0.000000</td>\n",
       "      <td>0.000000</td>\n",
       "      <td>0.000000</td>\n",
       "    </tr>\n",
       "  </tbody>\n",
       "</table>\n",
       "<p>5 rows × 57 columns</p>\n",
       "</div>"
      ],
      "text/plain": [
       "  codecommuneetablissement  ambulance  analyse_medicale  autre  \\\n",
       "0                    01001        0.0               0.0    0.0   \n",
       "1                    01002        0.0               0.0    1.0   \n",
       "2                    01004        1.0               4.0   21.0   \n",
       "3                    01005        0.0               0.0    0.0   \n",
       "4                    01007        0.0               0.0    3.0   \n",
       "\n",
       "   autre_specialiste  chirurgien  dentiste  generaliste  hopital  infirmiers  \\\n",
       "0                0.0         0.0       0.0          0.0      0.0         0.0   \n",
       "1                0.0         0.0       0.0          0.0      0.0         0.0   \n",
       "2               35.0         9.0      15.0         25.0      8.0        32.0   \n",
       "3                0.0         0.0       0.0          2.0      0.0         4.0   \n",
       "4                0.0         0.0       0.0          5.0      0.0         4.0   \n",
       "\n",
       "           ...           ville_code_commune  ville_canton  ville_densite_2010  \\\n",
       "0          ...                        01001          10.0                49.0   \n",
       "1          ...                        01002           1.0                24.0   \n",
       "2          ...                        01004           1.0               562.0   \n",
       "3          ...                        01005          30.0               101.0   \n",
       "4          ...                        01007           1.0                70.0   \n",
       "\n",
       "   ville_longitude_deg  ville_latitude_deg  dist_generaliste  dist_hopital  \\\n",
       "0              4.91667               46.15          3.919269      5.343667   \n",
       "1              5.41667               46.00          3.702791      7.579890   \n",
       "2              5.35000               45.95          0.000000      0.000000   \n",
       "3              4.90000               46.00          0.000000      9.822801   \n",
       "4              5.35000               46.00          0.000000      5.559746   \n",
       "\n",
       "  dist_soin_base dist_spe_regulier  dist_spe_particulier  \n",
       "0       5.343667          3.851641              5.343667  \n",
       "1       3.702791          3.702791              3.805566  \n",
       "2       0.000000          0.000000              0.000000  \n",
       "3       9.011880          0.000000              9.011880  \n",
       "4       0.000000          0.000000              0.000000  \n",
       "\n",
       "[5 rows x 57 columns]"
      ]
     },
     "execution_count": 4,
     "metadata": {},
     "output_type": "execute_result"
    }
   ],
   "source": [
    "df = pd.read_csv(os.path.join(PROCESS_DIR, ANALYSIS_FILENAME), sep=';',\n",
    "                     dtype={'CODGEO':str, 'codecommuneetablissement':str})\n",
    "df.head()"
   ]
  },
  {
   "cell_type": "markdown",
   "metadata": {},
   "source": [
    "**Rappel** :  \n",
    "*NBMENFISC15* : # foyers fiscaux  \n",
    "*NBPERSMENFISC15* : # Habitants/foyers * foyers fiscaux\n",
    "\n"
   ]
  },
  {
   "cell_type": "code",
   "execution_count": 5,
   "metadata": {},
   "outputs": [
    {
     "data": {
      "text/plain": [
       "Index(['codecommuneetablissement', 'ambulance', 'analyse_medicale', 'autre',\n",
       "       'autre_specialiste', 'chirurgien', 'dentiste', 'generaliste', 'hopital',\n",
       "       'infirmiers', 'organe', 'radiologiste', 'reeducateur_podologe',\n",
       "       'services_medicaux', 'soin_de_base', 'spe_regulier', 'spe_particulier',\n",
       "       'CODGEO', 'LIBGEO', 'NBMENFISC15', 'NBPERSMENFISC15', 'MED15', 'PIMP15',\n",
       "       'TP6015', 'TP60AGE115', 'TP60AGE215', 'TP60AGE315', 'TP60AGE415',\n",
       "       'TP60AGE515', 'TP60AGE615', 'TP60TOL115', 'TP60TOL215', 'PACT15',\n",
       "       'PTSA15', 'PCHO15', 'PBEN15', 'PPEN15', 'PPAT15', 'PPSOC15', 'PPFAM15',\n",
       "       'PPMINI15', 'PPLOGT15', 'PIMPOT15', 'D115', 'D915', 'RD15', '_merge',\n",
       "       'ville_code_commune', 'ville_canton', 'ville_densite_2010',\n",
       "       'ville_longitude_deg', 'ville_latitude_deg', 'dist_generaliste',\n",
       "       'dist_hopital', 'dist_soin_base', 'dist_spe_regulier',\n",
       "       'dist_spe_particulier'],\n",
       "      dtype='object')"
      ]
     },
     "execution_count": 5,
     "metadata": {},
     "output_type": "execute_result"
    }
   ],
   "source": [
    "df.columns"
   ]
  },
  {
   "cell_type": "code",
   "execution_count": 6,
   "metadata": {},
   "outputs": [
    {
     "name": "stdout",
     "output_type": "stream",
     "text": [
      "                   services_medicaux  soin_de_base  spe_regulier  \\\n",
      "services_medicaux           1.000000      0.984364      0.990536   \n",
      "soin_de_base                0.984364      1.000000      0.962008   \n",
      "spe_regulier                0.990536      0.962008      1.000000   \n",
      "spe_particulier             0.977723      0.964410      0.943415   \n",
      "NBMENFISC15                 0.502568      0.501650      0.499385   \n",
      "\n",
      "                   spe_particulier  NBMENFISC15  \n",
      "services_medicaux         0.977723     0.502568  \n",
      "soin_de_base              0.964410     0.501650  \n",
      "spe_regulier              0.943415     0.499385  \n",
      "spe_particulier           1.000000     0.484020  \n",
      "NBMENFISC15               0.484020     1.000000   \n",
      " \n",
      "On observe des corrélations entre la présence de services médicaux, \n",
      "quels qu'ils soient et le nombre de foyers fiscaux\n"
     ]
    }
   ],
   "source": [
    "print(df.iloc[:,13:20].corr(), \"\\n \\nOn observe des corrélations entre la présence de services médicaux, \\nquels qu'ils soient et le nombre de foyers fiscaux\")"
   ]
  },
  {
   "cell_type": "markdown",
   "metadata": {},
   "source": [
    "### Déserts médicaux : \n",
    "\n",
    "Un désert médical se caractérise comme suit:\n",
    "\n",
    "$$ \\frac{\\text{Nombre de médecins}}{\\text{ Nombre d'habitants}} < \\frac{105}{\\text{100 000}} $$\n",
    "\n",
    "Source: https://www.keldoc.com/actu/articles/appelle-on-deserts-medicaux"
   ]
  },
  {
   "cell_type": "code",
   "execution_count": 7,
   "metadata": {},
   "outputs": [],
   "source": [
    "df['departement'] = df['codecommuneetablissement'].str[:2]"
   ]
  },
  {
   "cell_type": "code",
   "execution_count": 8,
   "metadata": {},
   "outputs": [],
   "source": [
    "df['servicesmedicaux_par_foyerfiscaux'] =  df['services_medicaux'] / df['NBPERSMENFISC15']"
   ]
  },
  {
   "cell_type": "code",
   "execution_count": 9,
   "metadata": {},
   "outputs": [
    {
     "name": "stdout",
     "output_type": "stream",
     "text": [
      "Il y a 12619 déserts médicaux\n"
     ]
    }
   ],
   "source": [
    "print('Il y a',len(df[df['servicesmedicaux_par_foyerfiscaux']<105/100000]),'déserts médicaux')"
   ]
  },
  {
   "cell_type": "code",
   "execution_count": 10,
   "metadata": {},
   "outputs": [
    {
     "name": "stdout",
     "output_type": "stream",
     "text": [
      "Nombre généralistes par 100 000 habitants : 144.52075190279163\n"
     ]
    }
   ],
   "source": [
    "print('Nombre généralistes par 100 000 habitants :' , 100000 * df['generaliste'].sum() /df['NBPERSMENFISC15'].sum())"
   ]
  },
  {
   "cell_type": "code",
   "execution_count": 11,
   "metadata": {},
   "outputs": [
    {
     "name": "stdout",
     "output_type": "stream",
     "text": [
      "Nombre infirmiers par 100 000 habitants : 196.45291453001815\n"
     ]
    }
   ],
   "source": [
    "print('Nombre infirmiers par 100 000 habitants :' , 100000 * df['infirmiers'].sum() /df['NBPERSMENFISC15'].sum())"
   ]
  },
  {
   "cell_type": "code",
   "execution_count": 12,
   "metadata": {},
   "outputs": [
    {
     "name": "stdout",
     "output_type": "stream",
     "text": [
      "Nombre spécialistes par 100 000 habitants : 153.66710679091295\n"
     ]
    }
   ],
   "source": [
    "print('Nombre spécialistes par 100 000 habitants :' , 100000 * (df['autre_specialiste'] + df['autre_specialiste'] ).sum()/df['NBPERSMENFISC15'].sum())"
   ]
  },
  {
   "cell_type": "code",
   "execution_count": 13,
   "metadata": {},
   "outputs": [
    {
     "data": {
      "text/plain": [
       "Index(['codecommuneetablissement', 'ambulance', 'analyse_medicale', 'autre',\n",
       "       'autre_specialiste', 'chirurgien', 'dentiste', 'generaliste', 'hopital',\n",
       "       'infirmiers', 'organe', 'radiologiste', 'reeducateur_podologe',\n",
       "       'services_medicaux', 'soin_de_base', 'spe_regulier', 'spe_particulier',\n",
       "       'CODGEO', 'LIBGEO', 'NBMENFISC15', 'NBPERSMENFISC15', 'MED15', 'PIMP15',\n",
       "       'TP6015', 'TP60AGE115', 'TP60AGE215', 'TP60AGE315', 'TP60AGE415',\n",
       "       'TP60AGE515', 'TP60AGE615', 'TP60TOL115', 'TP60TOL215', 'PACT15',\n",
       "       'PTSA15', 'PCHO15', 'PBEN15', 'PPEN15', 'PPAT15', 'PPSOC15', 'PPFAM15',\n",
       "       'PPMINI15', 'PPLOGT15', 'PIMPOT15', 'D115', 'D915', 'RD15', '_merge',\n",
       "       'ville_code_commune', 'ville_canton', 'ville_densite_2010',\n",
       "       'ville_longitude_deg', 'ville_latitude_deg', 'dist_generaliste',\n",
       "       'dist_hopital', 'dist_soin_base', 'dist_spe_regulier',\n",
       "       'dist_spe_particulier', 'departement',\n",
       "       'servicesmedicaux_par_foyerfiscaux'],\n",
       "      dtype='object')"
      ]
     },
     "execution_count": 13,
     "metadata": {},
     "output_type": "execute_result"
    }
   ],
   "source": [
    "df.columns"
   ]
  },
  {
   "cell_type": "code",
   "execution_count": 14,
   "metadata": {},
   "outputs": [
    {
     "data": {
      "text/plain": [
       "(35922, 59)"
      ]
     },
     "execution_count": 14,
     "metadata": {},
     "output_type": "execute_result"
    }
   ],
   "source": [
    "df.shape"
   ]
  },
  {
   "cell_type": "code",
   "execution_count": 15,
   "metadata": {},
   "outputs": [
    {
     "data": {
      "text/plain": [
       "<matplotlib.axes._subplots.AxesSubplot at 0x1a25288cf8>"
      ]
     },
     "execution_count": 15,
     "metadata": {},
     "output_type": "execute_result"
    },
    {
     "data": {
      "image/png": "[encoded data removed]",
      "text/plain": [
       "<Figure size 432x288 with 1 Axes>"
      ]
     },
     "metadata": {},
     "output_type": "display_data"
    }
   ],
   "source": [
    "sns.set()\n",
    "(100000 * df['generaliste'] /df['NBPERSMENFISC15']).hist(bins=50)"
   ]
  },
  {
   "cell_type": "code",
   "execution_count": 16,
   "metadata": {},
   "outputs": [],
   "source": [
    "df['generaliste_hbt'] = (100000 * df['generaliste'] /df['NBPERSMENFISC15'])"
   ]
  },
  {
   "cell_type": "code",
   "execution_count": 17,
   "metadata": {},
   "outputs": [
    {
     "data": {
      "text/plain": [
       "<matplotlib.axes._subplots.AxesSubplot at 0x10ebd1f98>"
      ]
     },
     "execution_count": 17,
     "metadata": {},
     "output_type": "execute_result"
    },
    {
     "data": {
      "image/png": "[encoded data removed]",
      "text/plain": [
       "<Figure size 432x288 with 1 Axes>"
      ]
     },
     "metadata": {},
     "output_type": "display_data"
    }
   ],
   "source": [
    "df.query('generaliste_hbt < 500')['generaliste_hbt'].hist(bins=50)"
   ]
  },
  {
   "cell_type": "code",
   "execution_count": 18,
   "metadata": {},
   "outputs": [
    {
     "data": {
      "text/html": [
       "<div>\n",
       "<style scoped>\n",
       "    .dataframe tbody tr th:only-of-type {\n",
       "        vertical-align: middle;\n",
       "    }\n",
       "\n",
       "    .dataframe tbody tr th {\n",
       "        vertical-align: top;\n",
       "    }\n",
       "\n",
       "    .dataframe thead th {\n",
       "        text-align: right;\n",
       "    }\n",
       "</style>\n",
       "<table border=\"1\" class=\"dataframe\">\n",
       "  <thead>\n",
       "    <tr style=\"text-align: right;\">\n",
       "      <th></th>\n",
       "      <th>CODGEO</th>\n",
       "      <th>LIBGEO</th>\n",
       "      <th>DEP</th>\n",
       "      <th>REG</th>\n",
       "      <th>EPCI</th>\n",
       "      <th>NATURE_EPCI</th>\n",
       "      <th>ARR</th>\n",
       "      <th>CV</th>\n",
       "      <th>ZE2010</th>\n",
       "      <th>UU2010</th>\n",
       "      <th>TUU2015</th>\n",
       "      <th>TDUU2015</th>\n",
       "      <th>AU2010</th>\n",
       "      <th>TAU2015</th>\n",
       "      <th>CATAEU2010</th>\n",
       "      <th>BV2012</th>\n",
       "    </tr>\n",
       "  </thead>\n",
       "  <tbody>\n",
       "    <tr>\n",
       "      <th>0</th>\n",
       "      <td>01001</td>\n",
       "      <td>L'Abergement-Clémenciat</td>\n",
       "      <td>01</td>\n",
       "      <td>84</td>\n",
       "      <td>200069193</td>\n",
       "      <td>CC</td>\n",
       "      <td>012</td>\n",
       "      <td>0108</td>\n",
       "      <td>8213</td>\n",
       "      <td>01000</td>\n",
       "      <td>0</td>\n",
       "      <td>5</td>\n",
       "      <td>997</td>\n",
       "      <td>0</td>\n",
       "      <td>120</td>\n",
       "      <td>01093</td>\n",
       "    </tr>\n",
       "    <tr>\n",
       "      <th>1</th>\n",
       "      <td>01002</td>\n",
       "      <td>L'Abergement-de-Varey</td>\n",
       "      <td>01</td>\n",
       "      <td>84</td>\n",
       "      <td>240100883</td>\n",
       "      <td>CC</td>\n",
       "      <td>011</td>\n",
       "      <td>0101</td>\n",
       "      <td>8201</td>\n",
       "      <td>01000</td>\n",
       "      <td>0</td>\n",
       "      <td>4</td>\n",
       "      <td>002</td>\n",
       "      <td>9</td>\n",
       "      <td>112</td>\n",
       "      <td>01004</td>\n",
       "    </tr>\n",
       "    <tr>\n",
       "      <th>2</th>\n",
       "      <td>01004</td>\n",
       "      <td>Ambérieu-en-Bugey</td>\n",
       "      <td>01</td>\n",
       "      <td>84</td>\n",
       "      <td>240100883</td>\n",
       "      <td>CC</td>\n",
       "      <td>011</td>\n",
       "      <td>0101</td>\n",
       "      <td>8201</td>\n",
       "      <td>01302</td>\n",
       "      <td>3</td>\n",
       "      <td>32</td>\n",
       "      <td>002</td>\n",
       "      <td>9</td>\n",
       "      <td>112</td>\n",
       "      <td>01004</td>\n",
       "    </tr>\n",
       "    <tr>\n",
       "      <th>3</th>\n",
       "      <td>01005</td>\n",
       "      <td>Ambérieux-en-Dombes</td>\n",
       "      <td>01</td>\n",
       "      <td>84</td>\n",
       "      <td>200042497</td>\n",
       "      <td>CC</td>\n",
       "      <td>012</td>\n",
       "      <td>0122</td>\n",
       "      <td>8213</td>\n",
       "      <td>01000</td>\n",
       "      <td>0</td>\n",
       "      <td>6</td>\n",
       "      <td>002</td>\n",
       "      <td>9</td>\n",
       "      <td>112</td>\n",
       "      <td>69123</td>\n",
       "    </tr>\n",
       "    <tr>\n",
       "      <th>4</th>\n",
       "      <td>01006</td>\n",
       "      <td>Ambléon</td>\n",
       "      <td>01</td>\n",
       "      <td>84</td>\n",
       "      <td>200040350</td>\n",
       "      <td>CC</td>\n",
       "      <td>011</td>\n",
       "      <td>0104</td>\n",
       "      <td>8216</td>\n",
       "      <td>01000</td>\n",
       "      <td>0</td>\n",
       "      <td>3</td>\n",
       "      <td>998</td>\n",
       "      <td>0</td>\n",
       "      <td>300</td>\n",
       "      <td>01034</td>\n",
       "    </tr>\n",
       "  </tbody>\n",
       "</table>\n",
       "</div>"
      ],
      "text/plain": [
       "  CODGEO                   LIBGEO DEP  REG       EPCI NATURE_EPCI  ARR    CV  \\\n",
       "0  01001  L'Abergement-Clémenciat  01   84  200069193          CC  012  0108   \n",
       "1  01002    L'Abergement-de-Varey  01   84  240100883          CC  011  0101   \n",
       "2  01004        Ambérieu-en-Bugey  01   84  240100883          CC  011  0101   \n",
       "3  01005      Ambérieux-en-Dombes  01   84  200042497          CC  012  0122   \n",
       "4  01006                  Ambléon  01   84  200040350          CC  011  0104   \n",
       "\n",
       "   ZE2010 UU2010  TUU2015  TDUU2015 AU2010  TAU2015  CATAEU2010 BV2012  \n",
       "0    8213  01000        0         5    997        0         120  01093  \n",
       "1    8201  01000        0         4    002        9         112  01004  \n",
       "2    8201  01302        3        32    002        9         112  01004  \n",
       "3    8213  01000        0         6    002        9         112  69123  \n",
       "4    8216  01000        0         3    998        0         300  01034  "
      ]
     },
     "execution_count": 18,
     "metadata": {},
     "output_type": "execute_result"
    }
   ],
   "source": [
    "appartenance = pd.read_excel(os.path.join(DATA_DIR, APPARTENANCE_GEO_FILENAME), skiprows=5)\n",
    "appartenance.head()"
   ]
  },
  {
   "cell_type": "code",
   "execution_count": 19,
   "metadata": {},
   "outputs": [
    {
     "data": {
      "text/plain": [
       "97    67\n",
       "98     6\n",
       "29     1\n",
       "Name: codecommuneetablissement, dtype: int64"
      ]
     },
     "execution_count": 19,
     "metadata": {},
     "output_type": "execute_result"
    }
   ],
   "source": [
    "df.loc[df.CODGEO.isnull()]['codecommuneetablissement'].str[:2].value_counts()"
   ]
  },
  {
   "cell_type": "code",
   "execution_count": 20,
   "metadata": {},
   "outputs": [
    {
     "data": {
      "text/html": [
       "<div>\n",
       "<style scoped>\n",
       "    .dataframe tbody tr th:only-of-type {\n",
       "        vertical-align: middle;\n",
       "    }\n",
       "\n",
       "    .dataframe tbody tr th {\n",
       "        vertical-align: top;\n",
       "    }\n",
       "\n",
       "    .dataframe thead th {\n",
       "        text-align: right;\n",
       "    }\n",
       "</style>\n",
       "<table border=\"1\" class=\"dataframe\">\n",
       "  <thead>\n",
       "    <tr style=\"text-align: right;\">\n",
       "      <th></th>\n",
       "      <th>codecommuneetablissement</th>\n",
       "      <th>ambulance</th>\n",
       "      <th>analyse_medicale</th>\n",
       "      <th>autre</th>\n",
       "      <th>autre_specialiste</th>\n",
       "      <th>chirurgien</th>\n",
       "      <th>dentiste</th>\n",
       "      <th>generaliste</th>\n",
       "      <th>hopital</th>\n",
       "      <th>infirmiers</th>\n",
       "      <th>...</th>\n",
       "      <th>ville_longitude_deg</th>\n",
       "      <th>ville_latitude_deg</th>\n",
       "      <th>dist_generaliste</th>\n",
       "      <th>dist_hopital</th>\n",
       "      <th>dist_soin_base</th>\n",
       "      <th>dist_spe_regulier</th>\n",
       "      <th>dist_spe_particulier</th>\n",
       "      <th>departement</th>\n",
       "      <th>servicesmedicaux_par_foyerfiscaux</th>\n",
       "      <th>generaliste_hbt</th>\n",
       "    </tr>\n",
       "  </thead>\n",
       "  <tbody>\n",
       "    <tr>\n",
       "      <th>20472</th>\n",
       "      <td>98733</td>\n",
       "      <td>0.0</td>\n",
       "      <td>0.0</td>\n",
       "      <td>0.0</td>\n",
       "      <td>0.0</td>\n",
       "      <td>0.0</td>\n",
       "      <td>0.0</td>\n",
       "      <td>0.0</td>\n",
       "      <td>0.0</td>\n",
       "      <td>0.0</td>\n",
       "      <td>...</td>\n",
       "      <td>NaN</td>\n",
       "      <td>NaN</td>\n",
       "      <td>NaN</td>\n",
       "      <td>NaN</td>\n",
       "      <td>NaN</td>\n",
       "      <td>NaN</td>\n",
       "      <td>NaN</td>\n",
       "      <td>98</td>\n",
       "      <td>NaN</td>\n",
       "      <td>NaN</td>\n",
       "    </tr>\n",
       "    <tr>\n",
       "      <th>20473</th>\n",
       "      <td>98735</td>\n",
       "      <td>0.0</td>\n",
       "      <td>0.0</td>\n",
       "      <td>0.0</td>\n",
       "      <td>0.0</td>\n",
       "      <td>0.0</td>\n",
       "      <td>0.0</td>\n",
       "      <td>1.0</td>\n",
       "      <td>3.0</td>\n",
       "      <td>0.0</td>\n",
       "      <td>...</td>\n",
       "      <td>NaN</td>\n",
       "      <td>NaN</td>\n",
       "      <td>0.0</td>\n",
       "      <td>0.0</td>\n",
       "      <td>0.0</td>\n",
       "      <td>NaN</td>\n",
       "      <td>NaN</td>\n",
       "      <td>98</td>\n",
       "      <td>NaN</td>\n",
       "      <td>NaN</td>\n",
       "    </tr>\n",
       "    <tr>\n",
       "      <th>20474</th>\n",
       "      <td>98738</td>\n",
       "      <td>0.0</td>\n",
       "      <td>0.0</td>\n",
       "      <td>0.0</td>\n",
       "      <td>0.0</td>\n",
       "      <td>0.0</td>\n",
       "      <td>0.0</td>\n",
       "      <td>1.0</td>\n",
       "      <td>0.0</td>\n",
       "      <td>0.0</td>\n",
       "      <td>...</td>\n",
       "      <td>NaN</td>\n",
       "      <td>NaN</td>\n",
       "      <td>0.0</td>\n",
       "      <td>NaN</td>\n",
       "      <td>NaN</td>\n",
       "      <td>NaN</td>\n",
       "      <td>NaN</td>\n",
       "      <td>98</td>\n",
       "      <td>NaN</td>\n",
       "      <td>NaN</td>\n",
       "    </tr>\n",
       "    <tr>\n",
       "      <th>20475</th>\n",
       "      <td>98749</td>\n",
       "      <td>0.0</td>\n",
       "      <td>0.0</td>\n",
       "      <td>0.0</td>\n",
       "      <td>0.0</td>\n",
       "      <td>0.0</td>\n",
       "      <td>0.0</td>\n",
       "      <td>1.0</td>\n",
       "      <td>0.0</td>\n",
       "      <td>0.0</td>\n",
       "      <td>...</td>\n",
       "      <td>NaN</td>\n",
       "      <td>NaN</td>\n",
       "      <td>0.0</td>\n",
       "      <td>NaN</td>\n",
       "      <td>NaN</td>\n",
       "      <td>NaN</td>\n",
       "      <td>NaN</td>\n",
       "      <td>98</td>\n",
       "      <td>NaN</td>\n",
       "      <td>NaN</td>\n",
       "    </tr>\n",
       "    <tr>\n",
       "      <th>20476</th>\n",
       "      <td>98812</td>\n",
       "      <td>0.0</td>\n",
       "      <td>0.0</td>\n",
       "      <td>0.0</td>\n",
       "      <td>0.0</td>\n",
       "      <td>0.0</td>\n",
       "      <td>0.0</td>\n",
       "      <td>0.0</td>\n",
       "      <td>2.0</td>\n",
       "      <td>0.0</td>\n",
       "      <td>...</td>\n",
       "      <td>NaN</td>\n",
       "      <td>NaN</td>\n",
       "      <td>NaN</td>\n",
       "      <td>0.0</td>\n",
       "      <td>NaN</td>\n",
       "      <td>NaN</td>\n",
       "      <td>NaN</td>\n",
       "      <td>98</td>\n",
       "      <td>NaN</td>\n",
       "      <td>NaN</td>\n",
       "    </tr>\n",
       "    <tr>\n",
       "      <th>20477</th>\n",
       "      <td>98818</td>\n",
       "      <td>0.0</td>\n",
       "      <td>0.0</td>\n",
       "      <td>0.0</td>\n",
       "      <td>0.0</td>\n",
       "      <td>0.0</td>\n",
       "      <td>0.0</td>\n",
       "      <td>3.0</td>\n",
       "      <td>6.0</td>\n",
       "      <td>2.0</td>\n",
       "      <td>...</td>\n",
       "      <td>NaN</td>\n",
       "      <td>NaN</td>\n",
       "      <td>0.0</td>\n",
       "      <td>0.0</td>\n",
       "      <td>0.0</td>\n",
       "      <td>NaN</td>\n",
       "      <td>NaN</td>\n",
       "      <td>98</td>\n",
       "      <td>NaN</td>\n",
       "      <td>NaN</td>\n",
       "    </tr>\n",
       "  </tbody>\n",
       "</table>\n",
       "<p>6 rows × 60 columns</p>\n",
       "</div>"
      ],
      "text/plain": [
       "      codecommuneetablissement  ambulance  analyse_medicale  autre  \\\n",
       "20472                    98733        0.0               0.0    0.0   \n",
       "20473                    98735        0.0               0.0    0.0   \n",
       "20474                    98738        0.0               0.0    0.0   \n",
       "20475                    98749        0.0               0.0    0.0   \n",
       "20476                    98812        0.0               0.0    0.0   \n",
       "20477                    98818        0.0               0.0    0.0   \n",
       "\n",
       "       autre_specialiste  chirurgien  dentiste  generaliste  hopital  \\\n",
       "20472                0.0         0.0       0.0          0.0      0.0   \n",
       "20473                0.0         0.0       0.0          1.0      3.0   \n",
       "20474                0.0         0.0       0.0          1.0      0.0   \n",
       "20475                0.0         0.0       0.0          1.0      0.0   \n",
       "20476                0.0         0.0       0.0          0.0      2.0   \n",
       "20477                0.0         0.0       0.0          3.0      6.0   \n",
       "\n",
       "       infirmiers       ...         ville_longitude_deg  ville_latitude_deg  \\\n",
       "20472         0.0       ...                         NaN                 NaN   \n",
       "20473         0.0       ...                         NaN                 NaN   \n",
       "20474         0.0       ...                         NaN                 NaN   \n",
       "20475         0.0       ...                         NaN                 NaN   \n",
       "20476         0.0       ...                         NaN                 NaN   \n",
       "20477         2.0       ...                         NaN                 NaN   \n",
       "\n",
       "       dist_generaliste  dist_hopital  dist_soin_base  dist_spe_regulier  \\\n",
       "20472               NaN           NaN             NaN                NaN   \n",
       "20473               0.0           0.0             0.0                NaN   \n",
       "20474               0.0           NaN             NaN                NaN   \n",
       "20475               0.0           NaN             NaN                NaN   \n",
       "20476               NaN           0.0             NaN                NaN   \n",
       "20477               0.0           0.0             0.0                NaN   \n",
       "\n",
       "       dist_spe_particulier departement servicesmedicaux_par_foyerfiscaux  \\\n",
       "20472                   NaN          98                               NaN   \n",
       "20473                   NaN          98                               NaN   \n",
       "20474                   NaN          98                               NaN   \n",
       "20475                   NaN          98                               NaN   \n",
       "20476                   NaN          98                               NaN   \n",
       "20477                   NaN          98                               NaN   \n",
       "\n",
       "       generaliste_hbt  \n",
       "20472              NaN  \n",
       "20473              NaN  \n",
       "20474              NaN  \n",
       "20475              NaN  \n",
       "20476              NaN  \n",
       "20477              NaN  \n",
       "\n",
       "[6 rows x 60 columns]"
      ]
     },
     "execution_count": 20,
     "metadata": {},
     "output_type": "execute_result"
    }
   ],
   "source": [
    "df.loc[df.CODGEO.isnull() & (df.codecommuneetablissement.str[:2]=='98')]"
   ]
  },
  {
   "cell_type": "code",
   "execution_count": 21,
   "metadata": {},
   "outputs": [
    {
     "data": {
      "text/plain": [
       "Index(['codecommuneetablissement', 'ambulance', 'analyse_medicale', 'autre',\n",
       "       'autre_specialiste', 'chirurgien', 'dentiste', 'generaliste', 'hopital',\n",
       "       'infirmiers', 'organe', 'radiologiste', 'reeducateur_podologe',\n",
       "       'services_medicaux', 'soin_de_base', 'spe_regulier', 'spe_particulier',\n",
       "       'CODGEO', 'LIBGEO', 'NBMENFISC15', 'NBPERSMENFISC15', 'MED15', 'PIMP15',\n",
       "       'TP6015', 'TP60AGE115', 'TP60AGE215', 'TP60AGE315', 'TP60AGE415',\n",
       "       'TP60AGE515', 'TP60AGE615', 'TP60TOL115', 'TP60TOL215', 'PACT15',\n",
       "       'PTSA15', 'PCHO15', 'PBEN15', 'PPEN15', 'PPAT15', 'PPSOC15', 'PPFAM15',\n",
       "       'PPMINI15', 'PPLOGT15', 'PIMPOT15', 'D115', 'D915', 'RD15', '_merge',\n",
       "       'ville_code_commune', 'ville_canton', 'ville_densite_2010',\n",
       "       'ville_longitude_deg', 'ville_latitude_deg', 'dist_generaliste',\n",
       "       'dist_hopital', 'dist_soin_base', 'dist_spe_regulier',\n",
       "       'dist_spe_particulier', 'departement',\n",
       "       'servicesmedicaux_par_foyerfiscaux', 'generaliste_hbt'],\n",
       "      dtype='object')"
      ]
     },
     "execution_count": 21,
     "metadata": {},
     "output_type": "execute_result"
    }
   ],
   "source": [
    "df.columns"
   ]
  },
  {
   "cell_type": "code",
   "execution_count": 22,
   "metadata": {},
   "outputs": [],
   "source": [
    "dept_df = (df\n",
    "          .dropna(subset=['CODGEO', 'NBPERSMENFISC15'])\n",
    "          .assign(departement = lambda x: x.CODGEO.str[:2])\n",
    "          .groupby('departement')\n",
    "          [['NBPERSMENFISC15', 'ambulance', 'analyse_medicale', 'autre',\n",
    "       'autre_specialiste', 'chirurgien', 'dentiste', 'generaliste', 'hopital',\n",
    "       'infirmiers', 'organe', 'radiologiste', 'reeducateur_podologe',\n",
    "       'services_medicaux',]]\n",
    "          .sum()\n",
    "          )"
   ]
  },
  {
   "cell_type": "code",
   "execution_count": 23,
   "metadata": {},
   "outputs": [
    {
     "data": {
      "text/html": [
       "<div>\n",
       "<style scoped>\n",
       "    .dataframe tbody tr th:only-of-type {\n",
       "        vertical-align: middle;\n",
       "    }\n",
       "\n",
       "    .dataframe tbody tr th {\n",
       "        vertical-align: top;\n",
       "    }\n",
       "\n",
       "    .dataframe thead th {\n",
       "        text-align: right;\n",
       "    }\n",
       "</style>\n",
       "<table border=\"1\" class=\"dataframe\">\n",
       "  <thead>\n",
       "    <tr style=\"text-align: right;\">\n",
       "      <th></th>\n",
       "      <th>NBPERSMENFISC15</th>\n",
       "      <th>ambulance</th>\n",
       "      <th>analyse_medicale</th>\n",
       "      <th>autre</th>\n",
       "      <th>autre_specialiste</th>\n",
       "      <th>chirurgien</th>\n",
       "      <th>dentiste</th>\n",
       "      <th>generaliste</th>\n",
       "      <th>hopital</th>\n",
       "      <th>infirmiers</th>\n",
       "      <th>organe</th>\n",
       "      <th>radiologiste</th>\n",
       "      <th>reeducateur_podologe</th>\n",
       "      <th>services_medicaux</th>\n",
       "    </tr>\n",
       "    <tr>\n",
       "      <th>departement</th>\n",
       "      <th></th>\n",
       "      <th></th>\n",
       "      <th></th>\n",
       "      <th></th>\n",
       "      <th></th>\n",
       "      <th></th>\n",
       "      <th></th>\n",
       "      <th></th>\n",
       "      <th></th>\n",
       "      <th></th>\n",
       "      <th></th>\n",
       "      <th></th>\n",
       "      <th></th>\n",
       "      <th></th>\n",
       "    </tr>\n",
       "  </thead>\n",
       "  <tbody>\n",
       "    <tr>\n",
       "      <th>01</th>\n",
       "      <td>611797.0</td>\n",
       "      <td>82.0</td>\n",
       "      <td>39.0</td>\n",
       "      <td>718.0</td>\n",
       "      <td>203.0</td>\n",
       "      <td>39.0</td>\n",
       "      <td>368.0</td>\n",
       "      <td>597.0</td>\n",
       "      <td>138.0</td>\n",
       "      <td>1070.0</td>\n",
       "      <td>1.0</td>\n",
       "      <td>38.0</td>\n",
       "      <td>959.0</td>\n",
       "      <td>4252.0</td>\n",
       "    </tr>\n",
       "    <tr>\n",
       "      <th>02</th>\n",
       "      <td>518914.0</td>\n",
       "      <td>65.0</td>\n",
       "      <td>36.0</td>\n",
       "      <td>238.0</td>\n",
       "      <td>263.0</td>\n",
       "      <td>25.0</td>\n",
       "      <td>261.0</td>\n",
       "      <td>567.0</td>\n",
       "      <td>119.0</td>\n",
       "      <td>986.0</td>\n",
       "      <td>5.0</td>\n",
       "      <td>59.0</td>\n",
       "      <td>562.0</td>\n",
       "      <td>3186.0</td>\n",
       "    </tr>\n",
       "    <tr>\n",
       "      <th>03</th>\n",
       "      <td>332244.5</td>\n",
       "      <td>59.0</td>\n",
       "      <td>25.0</td>\n",
       "      <td>307.0</td>\n",
       "      <td>157.0</td>\n",
       "      <td>35.0</td>\n",
       "      <td>192.0</td>\n",
       "      <td>392.0</td>\n",
       "      <td>59.0</td>\n",
       "      <td>774.0</td>\n",
       "      <td>2.0</td>\n",
       "      <td>30.0</td>\n",
       "      <td>525.0</td>\n",
       "      <td>2557.0</td>\n",
       "    </tr>\n",
       "    <tr>\n",
       "      <th>04</th>\n",
       "      <td>156728.5</td>\n",
       "      <td>23.0</td>\n",
       "      <td>18.0</td>\n",
       "      <td>279.0</td>\n",
       "      <td>118.0</td>\n",
       "      <td>15.0</td>\n",
       "      <td>134.0</td>\n",
       "      <td>342.0</td>\n",
       "      <td>48.0</td>\n",
       "      <td>631.0</td>\n",
       "      <td>0.0</td>\n",
       "      <td>6.0</td>\n",
       "      <td>419.0</td>\n",
       "      <td>2033.0</td>\n",
       "    </tr>\n",
       "    <tr>\n",
       "      <th>05</th>\n",
       "      <td>135089.5</td>\n",
       "      <td>33.0</td>\n",
       "      <td>14.0</td>\n",
       "      <td>235.0</td>\n",
       "      <td>138.0</td>\n",
       "      <td>21.0</td>\n",
       "      <td>134.0</td>\n",
       "      <td>379.0</td>\n",
       "      <td>66.0</td>\n",
       "      <td>483.0</td>\n",
       "      <td>2.0</td>\n",
       "      <td>25.0</td>\n",
       "      <td>596.0</td>\n",
       "      <td>2126.0</td>\n",
       "    </tr>\n",
       "  </tbody>\n",
       "</table>\n",
       "</div>"
      ],
      "text/plain": [
       "             NBPERSMENFISC15  ambulance  analyse_medicale  autre  \\\n",
       "departement                                                        \n",
       "01                  611797.0       82.0              39.0  718.0   \n",
       "02                  518914.0       65.0              36.0  238.0   \n",
       "03                  332244.5       59.0              25.0  307.0   \n",
       "04                  156728.5       23.0              18.0  279.0   \n",
       "05                  135089.5       33.0              14.0  235.0   \n",
       "\n",
       "             autre_specialiste  chirurgien  dentiste  generaliste  hopital  \\\n",
       "departement                                                                  \n",
       "01                       203.0        39.0     368.0        597.0    138.0   \n",
       "02                       263.0        25.0     261.0        567.0    119.0   \n",
       "03                       157.0        35.0     192.0        392.0     59.0   \n",
       "04                       118.0        15.0     134.0        342.0     48.0   \n",
       "05                       138.0        21.0     134.0        379.0     66.0   \n",
       "\n",
       "             infirmiers  organe  radiologiste  reeducateur_podologe  \\\n",
       "departement                                                           \n",
       "01               1070.0     1.0          38.0                 959.0   \n",
       "02                986.0     5.0          59.0                 562.0   \n",
       "03                774.0     2.0          30.0                 525.0   \n",
       "04                631.0     0.0           6.0                 419.0   \n",
       "05                483.0     2.0          25.0                 596.0   \n",
       "\n",
       "             services_medicaux  \n",
       "departement                     \n",
       "01                      4252.0  \n",
       "02                      3186.0  \n",
       "03                      2557.0  \n",
       "04                      2033.0  \n",
       "05                      2126.0  "
      ]
     },
     "execution_count": 23,
     "metadata": {},
     "output_type": "execute_result"
    }
   ],
   "source": [
    "dept_df.head()"
   ]
  },
  {
   "cell_type": "markdown",
   "metadata": {},
   "source": [
    "### Création de variables par habitants"
   ]
  },
  {
   "cell_type": "code",
   "execution_count": 24,
   "metadata": {},
   "outputs": [],
   "source": [
    "dept_df['generaliste_hbt'] = 100000* dept_df.generaliste / dept_df.NBPERSMENFISC15\n",
    "dept_df['infirmier_hbt'] = 100000* dept_df.infirmiers / dept_df.NBPERSMENFISC15\n",
    "dept_df['ambulancier_hbt'] = 100000* dept_df.ambulance / dept_df.NBPERSMENFISC15\n",
    "dept_df['hopital_hbt'] = 100000 * dept_df.hopital/ dept_df.NBPERSMENFISC15"
   ]
  },
  {
   "cell_type": "markdown",
   "metadata": {},
   "source": [
    "### Visualisation de ces nouvelles variables"
   ]
  },
  {
   "cell_type": "code",
   "execution_count": 25,
   "metadata": {},
   "outputs": [
    {
     "data": {
      "application/vnd.jupyter.widget-view+json": {
       "model_id": "c5f64bce0bcc4b0ab164596ddcb14605",
       "version_major": 2,
       "version_minor": 0
      },
      "text/plain": [
       "interactive(children=(Dropdown(description='Histogramme :', options=('generaliste_hbt', 'ambulancier_hbt', 'in…"
      ]
     },
     "metadata": {},
     "output_type": "display_data"
    }
   ],
   "source": [
    "def update_plot(value):\n",
    "    dataframe = dept_df\n",
    "    dataframe[value].hist(bins=30)\n",
    "    plt.gcf().set_size_inches(11.7, 8.27)\n",
    "    return plt\n",
    "\n",
    "\n",
    "\n",
    "first = widgets.Dropdown(\n",
    "    options=['generaliste_hbt','ambulancier_hbt','infirmier_hbt','hopital_hbt'],\n",
    "    value='generaliste_hbt',\n",
    "    description='Histogramme :',\n",
    "    disabled=False,\n",
    ")\n",
    "\n",
    "widgets.interactive(update_plot, value=first)\n"
   ]
  },
  {
   "cell_type": "code",
   "execution_count": 26,
   "metadata": {},
   "outputs": [
    {
     "data": {
      "application/vnd.jupyter.widget-view+json": {
       "model_id": "5780222976be48779f9bad903ccb3997",
       "version_major": 2,
       "version_minor": 0
      },
      "text/plain": [
       "interactive(children=(Dropdown(description='Distribution :', options=('generaliste_hbt', 'ambulancier_hbt', 'i…"
      ]
     },
     "metadata": {},
     "output_type": "display_data"
    }
   ],
   "source": [
    "def update_describe(value):\n",
    "    dataframe = dept_df\n",
    "    aa = dataframe[value].describe()\n",
    "    return print('Distribution de {} :\\n\\n{}'.format(value, aa))\n",
    "\n",
    "\n",
    "\n",
    "first = widgets.Dropdown(\n",
    "    options=['generaliste_hbt','ambulancier_hbt','infirmier_hbt','hopital_hbt'],\n",
    "    value='generaliste_hbt',\n",
    "    description='Distribution :',\n",
    "    disabled=False,\n",
    ")\n",
    "\n",
    "widgets.interactive(update_describe, value=first)\n"
   ]
  },
  {
   "cell_type": "code",
   "execution_count": 27,
   "metadata": {},
   "outputs": [
    {
     "data": {
      "application/vnd.jupyter.widget-view+json": {
       "model_id": "fd0b54387e7746dcbdbe8081a4d442af",
       "version_major": 2,
       "version_minor": 0
      },
      "text/plain": [
       "interactive(children=(Dropdown(description='X :', options=('generaliste_hbt', 'ambulancier_hbt', 'infirmier_hb…"
      ]
     },
     "metadata": {},
     "output_type": "display_data"
    }
   ],
   "source": [
    "def update_plot(x_val, y_val):\n",
    "    dataframe = dept_df\n",
    "    plt.figure(figsize=(15,10))\n",
    "    sns.regplot( x=x_val, y=y_val, data=dataframe).set_title('Graphique de {} en fonction de la variable {} par département'.format(x_val,y_val));\n",
    "\n",
    "    for i in range(0,dataframe.shape[0]):\n",
    "        plt.text(dataframe[x_val].iloc[i]+1,\n",
    "                 dataframe[y_val].iloc[i]+1,\n",
    "                 dataframe.index[i], \n",
    "                 fontsize=9\n",
    "                );\n",
    "    return plt\n",
    "\n",
    "\n",
    "\n",
    "first = widgets.Dropdown(\n",
    "    options=['generaliste_hbt','ambulancier_hbt','infirmier_hbt','hopital_hbt'],\n",
    "    value='generaliste_hbt',\n",
    "    description='X :',\n",
    "    disabled=False,\n",
    ")\n",
    "\n",
    "second = widgets.Dropdown(\n",
    "    options=['generaliste_hbt','ambulancier_hbt','infirmier_hbt','hopital_hbt'],\n",
    "    value='infirmier_hbt',\n",
    "    description='Y :',\n",
    "    disabled=False,\n",
    ")\n",
    "\n",
    "widgets.interactive(update_plot, x_val=first, y_val=second)\n"
   ]
  },
  {
   "cell_type": "code",
   "execution_count": 28,
   "metadata": {
    "scrolled": false
   },
   "outputs": [],
   "source": [
    "#fr_chart = pygal.maps.fr.Departments()\n",
    "#fr_chart.title = 'Generalistes par 100 000 habitants'\n",
    "#fr_chart.add(title='Généralistes', values=dept_df['generaliste_hbt'].to_dict()\n",
    "#)\n",
    "#fr_chart.render_in_browser()"
   ]
  },
  {
   "cell_type": "markdown",
   "metadata": {},
   "source": [
    "\n",
    "## EXAMEN\n",
    "\n",
    "### Comment caractériser un désert médical ?  DEADLINE: 29 MARS 2019"
   ]
  },
  {
   "cell_type": "code",
   "execution_count": 29,
   "metadata": {},
   "outputs": [
    {
     "data": {
      "text/plain": [
       "Index(['codecommuneetablissement', 'ambulance', 'analyse_medicale', 'autre',\n",
       "       'autre_specialiste', 'chirurgien', 'dentiste', 'generaliste', 'hopital',\n",
       "       'infirmiers', 'organe', 'radiologiste', 'reeducateur_podologe',\n",
       "       'services_medicaux', 'soin_de_base', 'spe_regulier', 'spe_particulier',\n",
       "       'CODGEO', 'LIBGEO', 'NBMENFISC15', 'NBPERSMENFISC15', 'MED15', 'PIMP15',\n",
       "       'TP6015', 'TP60AGE115', 'TP60AGE215', 'TP60AGE315', 'TP60AGE415',\n",
       "       'TP60AGE515', 'TP60AGE615', 'TP60TOL115', 'TP60TOL215', 'PACT15',\n",
       "       'PTSA15', 'PCHO15', 'PBEN15', 'PPEN15', 'PPAT15', 'PPSOC15', 'PPFAM15',\n",
       "       'PPMINI15', 'PPLOGT15', 'PIMPOT15', 'D115', 'D915', 'RD15', '_merge',\n",
       "       'ville_code_commune', 'ville_canton', 'ville_densite_2010',\n",
       "       'ville_longitude_deg', 'ville_latitude_deg', 'dist_generaliste',\n",
       "       'dist_hopital', 'dist_soin_base', 'dist_spe_regulier',\n",
       "       'dist_spe_particulier', 'departement',\n",
       "       'servicesmedicaux_par_foyerfiscaux', 'generaliste_hbt'],\n",
       "      dtype='object')"
      ]
     },
     "execution_count": 29,
     "metadata": {},
     "output_type": "execute_result"
    }
   ],
   "source": [
    "df.columns"
   ]
  },
  {
   "cell_type": "code",
   "execution_count": 30,
   "metadata": {},
   "outputs": [],
   "source": [
    "df['ambulance_hbt'] = (100000 * df['ambulance'] /df['NBPERSMENFISC15'])\n",
    "df['hopital_hbt'] = (100000 * df['hopital'] /df['NBPERSMENFISC15'])"
   ]
  },
  {
   "cell_type": "code",
   "execution_count": 31,
   "metadata": {},
   "outputs": [],
   "source": [
    "clean = df[['ambulance', 'analyse_medicale', 'autre','autre_specialiste', 'chirurgien', 'dentiste', 'generaliste', 'hopital','infirmiers', 'organe', 'radiologiste', 'reeducateur_podologe','services_medicaux', 'soin_de_base', 'spe_regulier', 'spe_particulier','dist_generaliste', 'dist_hopital', 'dist_soin_base','dist_spe_regulier','dist_spe_particulier','ville_latitude_deg','ville_longitude_deg','servicesmedicaux_par_foyerfiscaux', 'generaliste_hbt','hopital_hbt','ambulance_hbt','NBPERSMENFISC15']].dropna().round(3)"
   ]
  },
  {
   "cell_type": "code",
   "execution_count": 32,
   "metadata": {},
   "outputs": [
    {
     "data": {
      "text/html": [
       "<div>\n",
       "<style scoped>\n",
       "    .dataframe tbody tr th:only-of-type {\n",
       "        vertical-align: middle;\n",
       "    }\n",
       "\n",
       "    .dataframe tbody tr th {\n",
       "        vertical-align: top;\n",
       "    }\n",
       "\n",
       "    .dataframe thead th {\n",
       "        text-align: right;\n",
       "    }\n",
       "</style>\n",
       "<table border=\"1\" class=\"dataframe\">\n",
       "  <thead>\n",
       "    <tr style=\"text-align: right;\">\n",
       "      <th></th>\n",
       "      <th>ambulance</th>\n",
       "      <th>analyse_medicale</th>\n",
       "      <th>autre</th>\n",
       "      <th>autre_specialiste</th>\n",
       "      <th>chirurgien</th>\n",
       "      <th>dentiste</th>\n",
       "      <th>generaliste</th>\n",
       "      <th>hopital</th>\n",
       "      <th>infirmiers</th>\n",
       "      <th>organe</th>\n",
       "      <th>...</th>\n",
       "      <th>dist_soin_base</th>\n",
       "      <th>dist_spe_regulier</th>\n",
       "      <th>dist_spe_particulier</th>\n",
       "      <th>ville_latitude_deg</th>\n",
       "      <th>ville_longitude_deg</th>\n",
       "      <th>servicesmedicaux_par_foyerfiscaux</th>\n",
       "      <th>generaliste_hbt</th>\n",
       "      <th>hopital_hbt</th>\n",
       "      <th>ambulance_hbt</th>\n",
       "      <th>NBPERSMENFISC15</th>\n",
       "    </tr>\n",
       "  </thead>\n",
       "  <tbody>\n",
       "    <tr>\n",
       "      <th>0</th>\n",
       "      <td>0.0</td>\n",
       "      <td>0.0</td>\n",
       "      <td>0.0</td>\n",
       "      <td>0.0</td>\n",
       "      <td>0.0</td>\n",
       "      <td>0.0</td>\n",
       "      <td>0.0</td>\n",
       "      <td>0.0</td>\n",
       "      <td>0.0</td>\n",
       "      <td>0.0</td>\n",
       "      <td>...</td>\n",
       "      <td>5.344</td>\n",
       "      <td>3.852</td>\n",
       "      <td>5.344</td>\n",
       "      <td>46.15</td>\n",
       "      <td>4.917</td>\n",
       "      <td>0.001</td>\n",
       "      <td>0.000</td>\n",
       "      <td>0.000</td>\n",
       "      <td>0.000</td>\n",
       "      <td>801.0</td>\n",
       "    </tr>\n",
       "    <tr>\n",
       "      <th>1</th>\n",
       "      <td>0.0</td>\n",
       "      <td>0.0</td>\n",
       "      <td>1.0</td>\n",
       "      <td>0.0</td>\n",
       "      <td>0.0</td>\n",
       "      <td>0.0</td>\n",
       "      <td>0.0</td>\n",
       "      <td>0.0</td>\n",
       "      <td>0.0</td>\n",
       "      <td>0.0</td>\n",
       "      <td>...</td>\n",
       "      <td>3.703</td>\n",
       "      <td>3.703</td>\n",
       "      <td>3.806</td>\n",
       "      <td>46.00</td>\n",
       "      <td>5.417</td>\n",
       "      <td>0.004</td>\n",
       "      <td>0.000</td>\n",
       "      <td>0.000</td>\n",
       "      <td>0.000</td>\n",
       "      <td>245.5</td>\n",
       "    </tr>\n",
       "    <tr>\n",
       "      <th>2</th>\n",
       "      <td>1.0</td>\n",
       "      <td>4.0</td>\n",
       "      <td>21.0</td>\n",
       "      <td>35.0</td>\n",
       "      <td>9.0</td>\n",
       "      <td>15.0</td>\n",
       "      <td>25.0</td>\n",
       "      <td>8.0</td>\n",
       "      <td>32.0</td>\n",
       "      <td>0.0</td>\n",
       "      <td>...</td>\n",
       "      <td>0.000</td>\n",
       "      <td>0.000</td>\n",
       "      <td>0.000</td>\n",
       "      <td>45.95</td>\n",
       "      <td>5.350</td>\n",
       "      <td>0.014</td>\n",
       "      <td>179.636</td>\n",
       "      <td>57.484</td>\n",
       "      <td>7.185</td>\n",
       "      <td>13917.0</td>\n",
       "    </tr>\n",
       "    <tr>\n",
       "      <th>3</th>\n",
       "      <td>0.0</td>\n",
       "      <td>0.0</td>\n",
       "      <td>0.0</td>\n",
       "      <td>0.0</td>\n",
       "      <td>0.0</td>\n",
       "      <td>0.0</td>\n",
       "      <td>2.0</td>\n",
       "      <td>0.0</td>\n",
       "      <td>4.0</td>\n",
       "      <td>0.0</td>\n",
       "      <td>...</td>\n",
       "      <td>9.012</td>\n",
       "      <td>0.000</td>\n",
       "      <td>9.012</td>\n",
       "      <td>46.00</td>\n",
       "      <td>4.900</td>\n",
       "      <td>0.007</td>\n",
       "      <td>119.653</td>\n",
       "      <td>0.000</td>\n",
       "      <td>0.000</td>\n",
       "      <td>1671.5</td>\n",
       "    </tr>\n",
       "    <tr>\n",
       "      <th>4</th>\n",
       "      <td>0.0</td>\n",
       "      <td>0.0</td>\n",
       "      <td>3.0</td>\n",
       "      <td>0.0</td>\n",
       "      <td>0.0</td>\n",
       "      <td>0.0</td>\n",
       "      <td>5.0</td>\n",
       "      <td>0.0</td>\n",
       "      <td>4.0</td>\n",
       "      <td>0.0</td>\n",
       "      <td>...</td>\n",
       "      <td>0.000</td>\n",
       "      <td>0.000</td>\n",
       "      <td>0.000</td>\n",
       "      <td>46.00</td>\n",
       "      <td>5.350</td>\n",
       "      <td>0.006</td>\n",
       "      <td>189.717</td>\n",
       "      <td>0.000</td>\n",
       "      <td>0.000</td>\n",
       "      <td>2635.5</td>\n",
       "    </tr>\n",
       "  </tbody>\n",
       "</table>\n",
       "<p>5 rows × 28 columns</p>\n",
       "</div>"
      ],
      "text/plain": [
       "   ambulance  analyse_medicale  autre  autre_specialiste  chirurgien  \\\n",
       "0        0.0               0.0    0.0                0.0         0.0   \n",
       "1        0.0               0.0    1.0                0.0         0.0   \n",
       "2        1.0               4.0   21.0               35.0         9.0   \n",
       "3        0.0               0.0    0.0                0.0         0.0   \n",
       "4        0.0               0.0    3.0                0.0         0.0   \n",
       "\n",
       "   dentiste  generaliste  hopital  infirmiers  organe       ...         \\\n",
       "0       0.0          0.0      0.0         0.0     0.0       ...          \n",
       "1       0.0          0.0      0.0         0.0     0.0       ...          \n",
       "2      15.0         25.0      8.0        32.0     0.0       ...          \n",
       "3       0.0          2.0      0.0         4.0     0.0       ...          \n",
       "4       0.0          5.0      0.0         4.0     0.0       ...          \n",
       "\n",
       "   dist_soin_base  dist_spe_regulier  dist_spe_particulier  \\\n",
       "0           5.344              3.852                 5.344   \n",
       "1           3.703              3.703                 3.806   \n",
       "2           0.000              0.000                 0.000   \n",
       "3           9.012              0.000                 9.012   \n",
       "4           0.000              0.000                 0.000   \n",
       "\n",
       "   ville_latitude_deg  ville_longitude_deg  servicesmedicaux_par_foyerfiscaux  \\\n",
       "0               46.15                4.917                              0.001   \n",
       "1               46.00                5.417                              0.004   \n",
       "2               45.95                5.350                              0.014   \n",
       "3               46.00                4.900                              0.007   \n",
       "4               46.00                5.350                              0.006   \n",
       "\n",
       "   generaliste_hbt  hopital_hbt  ambulance_hbt  NBPERSMENFISC15  \n",
       "0            0.000        0.000          0.000            801.0  \n",
       "1            0.000        0.000          0.000            245.5  \n",
       "2          179.636       57.484          7.185          13917.0  \n",
       "3          119.653        0.000          0.000           1671.5  \n",
       "4          189.717        0.000          0.000           2635.5  \n",
       "\n",
       "[5 rows x 28 columns]"
      ]
     },
     "execution_count": 32,
     "metadata": {},
     "output_type": "execute_result"
    }
   ],
   "source": [
    "clean.head()"
   ]
  },
  {
   "cell_type": "code",
   "execution_count": 33,
   "metadata": {},
   "outputs": [
    {
     "data": {
      "text/plain": [
       "{'type': 'file', 'filename': 'points1.geojson', 'feature_count': 19938}"
      ]
     },
     "execution_count": 33,
     "metadata": {},
     "output_type": "execute_result"
    }
   ],
   "source": [
    "# Create a geojson file export from the current dataframe\n",
    "df_to_geojson(clean, filename='points1.geojson',\n",
    "              properties=['dist_generaliste', 'dist_hopital', 'dist_soin_base','dist_spe_regulier','dist_spe_particulier','generaliste_hbt','ambulance_hbt','hopital_hbt'], \n",
    "                     lat='ville_latitude_deg', lon='ville_longitude_deg', precision=3)"
   ]
  },
  {
   "cell_type": "code",
   "execution_count": 34,
   "metadata": {},
   "outputs": [
    {
     "data": {
      "application/vnd.jupyter.widget-view+json": {
       "model_id": "0084e0562041458fa62f2cfbfea153b4",
       "version_major": 2,
       "version_minor": 0
      },
      "text/plain": [
       "interactive(children=(Dropdown(description='Option :', index=2, options=('dist_generaliste', 'dist_hopital', '…"
      ]
     },
     "metadata": {},
     "output_type": "display_data"
    }
   ],
   "source": [
    "# Génération des bins et de la couleur des graphiques \n",
    "\n",
    "def update_plot(color):\n",
    "    color_breaks = mapclassify.Natural_Breaks(clean[color], k=8, initial=0).bins\n",
    "    #color_breaks = [0, 5, 10, 20]\n",
    "    color_stops = create_color_stops(color_breaks, colors='YlGnBu')\n",
    "\n",
    "    # Create the viz from the dataframe\n",
    "    viz = CircleViz('points1.geojson',\n",
    "                    access_token=MAPBOX_ACCESS_TOKEN, \n",
    "                    height='600px',\n",
    "                    color_property = color,\n",
    "                    color_stops = color_stops,\n",
    "                    center = (4, 47),\n",
    "                    zoom = 4.8,\n",
    "                    below_layer = 'waterway-label')\n",
    "\n",
    "    viz.add_snapshot_links = True\n",
    "    viz.style_url='mapbox://styles/mapbox/dark-v9?optimize=true'\n",
    "    viz.show()\n",
    "\n",
    "\n",
    "first = widgets.Dropdown(\n",
    "    options=['dist_generaliste', 'dist_hopital', 'dist_soin_base','dist_spe_regulier','dist_spe_particulier', 'generaliste_hbt','ambulance_hbt','hopital_hbt'],\n",
    "    value='dist_soin_base',\n",
    "    description='Option :',\n",
    "    disabled=False,\n",
    ")\n",
    "\n",
    "widgets.interactive(update_plot, color=first)"
   ]
  },
  {
   "cell_type": "code",
   "execution_count": 35,
   "metadata": {},
   "outputs": [
    {
     "data": {
      "application/vnd.jupyter.widget-view+json": {
       "model_id": "d53295e9c24c47e2ad7aa45ac4d5059d",
       "version_major": 2,
       "version_minor": 0
      },
      "text/plain": [
       "interactive(children=(Dropdown(description='Couleur :', index=5, options=('dist_generaliste', 'dist_hopital', …"
      ]
     },
     "metadata": {},
     "output_type": "display_data"
    }
   ],
   "source": [
    "# Génération des bins et de la couleur des graphiques \n",
    "\n",
    "def update_plot(color, radius):\n",
    "    color_breaks = mapclassify.Natural_Breaks(clean[color], k=8, initial=0).bins\n",
    "    #color_breaks = [0, 5, 10, 20]\n",
    "    color_stops = create_color_stops(color_breaks, colors='YlGnBu')\n",
    "\n",
    "    radius_breaks = mapclassify.Natural_Breaks(clean[radius], k=8, initial=0).bins\n",
    "    radius_stops = create_radius_stops(radius_breaks, 1, 10)\n",
    "\n",
    "    # Create the viz from the dataframe\n",
    "    viz = GraduatedCircleViz('points1.geojson',\n",
    "                    access_token=MAPBOX_ACCESS_TOKEN, \n",
    "                    height='600px',\n",
    "                    color_property = color,\n",
    "                    color_stops = color_stops,\n",
    "                    radius_property = radius,\n",
    "                    radius_stops = radius_stops,\n",
    "                    center = (4, 47),\n",
    "                    zoom = 4.8,\n",
    "                    below_layer = 'waterway-label')\n",
    "\n",
    "    viz.add_snapshot_links = True\n",
    "    viz.style_url='mapbox://styles/mapbox/dark-v9?optimize=true'\n",
    "    viz.show()\n",
    "\n",
    "\n",
    "\n",
    "first = widgets.Dropdown(\n",
    "    options=['dist_generaliste', 'dist_hopital', 'dist_soin_base','dist_spe_regulier','dist_spe_particulier', 'generaliste_hbt','ambulance_hbt','hopital_hbt'],\n",
    "    value='generaliste_hbt',\n",
    "    description='Couleur :',\n",
    "    disabled=False,\n",
    ")\n",
    "\n",
    "second = widgets.Dropdown(\n",
    "    options=['dist_generaliste', 'dist_hopital', 'dist_soin_base','dist_spe_regulier','dist_spe_particulier', 'generaliste_hbt','ambulance_hbt','hopital_hbt'],\n",
    "    value='dist_soin_base',\n",
    "    description='Taille :',\n",
    "    disabled=False,\n",
    ")\n",
    "\n",
    "widgets.interactive(update_plot, color=first, radius=second)"
   ]
  },
  {
   "cell_type": "code",
   "execution_count": null,
   "metadata": {
    "collapsed": true
   },
   "outputs": [],
   "source": []
  },
  {
   "cell_type": "markdown",
   "metadata": {
    "collapsed": true
   },
   "source": [
    "\n",
    "<h2><center>\n",
    "Fin de ce notebook. Merci de l'avoir parcouru.\n",
    "</center></h2>\n",
    "<h2><center>\n",
    "Réalisé par Alexis COTTEZ - Faustine VALLET \n",
    "</center></h2>\n",
    "<img src=\"../reports/figures/amse_logo.png\">\n",
    "<h2><center>\n",
    "Aix Marseille School of Economics (AMSE) - 29 Mars 2019\n",
    "</center></h2>\n",
    "\n",
    "\n"
   ]
  }
 ],
 "metadata": {
  "kernelspec": {
   "display_name": "Python 3",
   "language": "python",
   "name": "python3"
  },
  "language_info": {
   "codemirror_mode": {
    "name": "ipython",
    "version": 3
   },
   "file_extension": ".py",
   "mimetype": "text/x-python",
   "name": "python",
   "nbconvert_exporter": "python",
   "pygments_lexer": "ipython3",
   "version": "3.7.1"
  }
 },
 "nbformat": 4,
 "nbformat_minor": 2
}
